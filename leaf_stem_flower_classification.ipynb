{
 "cells": [
  {
   "cell_type": "code",
   "execution_count": 168,
   "id": "23e54570",
   "metadata": {},
   "outputs": [],
   "source": [
    "import tensorflow as tf\n",
    "from keras_preprocessing.image import ImageDataGenerator"
   ]
  },
  {
   "cell_type": "code",
   "execution_count": 169,
   "id": "c9b3bd4c",
   "metadata": {},
   "outputs": [
    {
     "name": "stdout",
     "output_type": "stream",
     "text": [
      "Found 1200 images belonging to 3 classes.\n"
     ]
    }
   ],
   "source": [
    "train_datagen = ImageDataGenerator(rescale = 1./255,\n",
    "                                  shear_range = 0.2,\n",
    "                                  zoom_range = 0.2,\n",
    "                                  horizontal_flip = True)\n",
    "training_set = train_datagen.flow_from_directory('C:/CNN/leaf_flower_stem classification/training',\n",
    "                                                target_size = (64,64),\n",
    "                                                batch_size = 64,\n",
    "                                                class_mode = 'categorical')"
   ]
  },
  {
   "cell_type": "code",
   "execution_count": 170,
   "id": "b48972a7",
   "metadata": {},
   "outputs": [
    {
     "name": "stdout",
     "output_type": "stream",
     "text": [
      "Found 240 images belonging to 3 classes.\n"
     ]
    }
   ],
   "source": [
    "test_datagen = ImageDataGenerator(rescale = 1./255)\n",
    "test_set = test_datagen.flow_from_directory('C:/CNN/leaf_flower_stem classification/testing',\n",
    "                                           target_size = (64, 64),\n",
    "                                           batch_size = 64,\n",
    "                                           class_mode = 'categorical')"
   ]
  },
  {
   "cell_type": "code",
   "execution_count": 171,
   "id": "d3e428b2",
   "metadata": {},
   "outputs": [],
   "source": [
    "cnn = tf.keras.models.Sequential()"
   ]
  },
  {
   "cell_type": "code",
   "execution_count": 172,
   "id": "b8e12830",
   "metadata": {},
   "outputs": [],
   "source": [
    "cnn.add(tf.keras.layers.Conv2D(filters = 16, kernel_size = 5, activation = 'relu', input_shape = [64, 64, 3], padding = 'same'))"
   ]
  },
  {
   "cell_type": "code",
   "execution_count": 173,
   "id": "4cdedcde",
   "metadata": {},
   "outputs": [],
   "source": [
    "cnn.add(tf.keras.layers.MaxPool2D(pool_size = 2, strides = 2))"
   ]
  },
  {
   "cell_type": "code",
   "execution_count": 174,
   "id": "1175548e",
   "metadata": {},
   "outputs": [],
   "source": [
    "cnn.add(tf.keras.layers.Conv2D(filters=32, kernel_size=5, activation='relu', padding = 'same'))\n",
    "cnn.add(tf.keras.layers.MaxPool2D(pool_size=2, strides=2))"
   ]
  },
  {
   "cell_type": "code",
   "execution_count": 175,
   "id": "7dfc22a0",
   "metadata": {},
   "outputs": [],
   "source": [
    "cnn.add(tf.keras.layers.Conv2D(filters=64, kernel_size=5, activation='relu', padding = 'same'))\n",
    "cnn.add(tf.keras.layers.MaxPool2D(pool_size=2, strides=2))"
   ]
  },
  {
   "cell_type": "code",
   "execution_count": 176,
   "id": "ef169268",
   "metadata": {},
   "outputs": [],
   "source": [
    "cnn.add(tf.keras.layers.Conv2D(filters=128, kernel_size=5, activation='relu', padding = 'same'))\n",
    "cnn.add(tf.keras.layers.MaxPool2D(pool_size=2, strides=2))"
   ]
  },
  {
   "cell_type": "code",
   "execution_count": 177,
   "id": "21e13136",
   "metadata": {},
   "outputs": [],
   "source": [
    "cnn.add(tf.keras.layers.Flatten())"
   ]
  },
  {
   "cell_type": "code",
   "execution_count": 178,
   "id": "d1a32c7f",
   "metadata": {},
   "outputs": [],
   "source": [
    "cnn.add(tf.keras.layers.Dense(units = 1000, activation = 'relu'))"
   ]
  },
  {
   "cell_type": "code",
   "execution_count": 179,
   "id": "fa92d47b",
   "metadata": {},
   "outputs": [],
   "source": [
    "cnn.add(tf.keras.layers.Dense(units = 128, activation = 'relu'))"
   ]
  },
  {
   "cell_type": "code",
   "execution_count": 180,
   "id": "86036aee",
   "metadata": {},
   "outputs": [],
   "source": [
    "cnn.add(tf.keras.layers.Dense(units = 3, activation = 'softmax'))"
   ]
  },
  {
   "cell_type": "code",
   "execution_count": 181,
   "id": "eb4b24d3",
   "metadata": {},
   "outputs": [
    {
     "name": "stdout",
     "output_type": "stream",
     "text": [
      "Model: \"sequential_12\"\n",
      "_________________________________________________________________\n",
      " Layer (type)                Output Shape              Param #   \n",
      "=================================================================\n",
      " conv2d_32 (Conv2D)          (None, 64, 64, 16)        1216      \n",
      "                                                                 \n",
      " max_pooling2d_32 (MaxPoolin  (None, 32, 32, 16)       0         \n",
      " g2D)                                                            \n",
      "                                                                 \n",
      " conv2d_33 (Conv2D)          (None, 32, 32, 32)        12832     \n",
      "                                                                 \n",
      " max_pooling2d_33 (MaxPoolin  (None, 16, 16, 32)       0         \n",
      " g2D)                                                            \n",
      "                                                                 \n",
      " conv2d_34 (Conv2D)          (None, 16, 16, 64)        51264     \n",
      "                                                                 \n",
      " max_pooling2d_34 (MaxPoolin  (None, 8, 8, 64)         0         \n",
      " g2D)                                                            \n",
      "                                                                 \n",
      " conv2d_35 (Conv2D)          (None, 8, 8, 128)         204928    \n",
      "                                                                 \n",
      " max_pooling2d_35 (MaxPoolin  (None, 4, 4, 128)        0         \n",
      " g2D)                                                            \n",
      "                                                                 \n",
      " flatten_9 (Flatten)         (None, 2048)              0         \n",
      "                                                                 \n",
      " dense_26 (Dense)            (None, 1000)              2049000   \n",
      "                                                                 \n",
      " dense_27 (Dense)            (None, 128)               128128    \n",
      "                                                                 \n",
      " dense_28 (Dense)            (None, 3)                 387       \n",
      "                                                                 \n",
      "=================================================================\n",
      "Total params: 2,447,755\n",
      "Trainable params: 2,447,755\n",
      "Non-trainable params: 0\n",
      "_________________________________________________________________\n"
     ]
    }
   ],
   "source": [
    "cnn.summary()"
   ]
  },
  {
   "cell_type": "code",
   "execution_count": 182,
   "id": "5957b581",
   "metadata": {},
   "outputs": [],
   "source": [
    "cnn.compile(optimizer = 'adam', loss = 'categorical_crossentropy', metrics = ['accuracy'])"
   ]
  },
  {
   "cell_type": "code",
   "execution_count": 183,
   "id": "43c88a26",
   "metadata": {
    "scrolled": false
   },
   "outputs": [
    {
     "name": "stdout",
     "output_type": "stream",
     "text": [
      "Epoch 1/100\n",
      "19/19 [==============================] - 8s 403ms/step - loss: 0.6377 - accuracy: 0.7108 - val_loss: 0.3258 - val_accuracy: 0.8542\n",
      "Epoch 2/100\n",
      "19/19 [==============================] - 8s 399ms/step - loss: 0.0613 - accuracy: 0.9850 - val_loss: 3.1707 - val_accuracy: 0.8333\n",
      "Epoch 3/100\n",
      "19/19 [==============================] - 8s 397ms/step - loss: 0.3480 - accuracy: 0.9308 - val_loss: 0.1550 - val_accuracy: 0.9500\n",
      "Epoch 4/100\n",
      "19/19 [==============================] - 8s 398ms/step - loss: 0.0630 - accuracy: 0.9858 - val_loss: 0.0356 - val_accuracy: 0.9833\n",
      "Epoch 5/100\n",
      "19/19 [==============================] - 8s 405ms/step - loss: 0.0022 - accuracy: 1.0000 - val_loss: 0.0084 - val_accuracy: 1.0000\n",
      "Epoch 6/100\n",
      "19/19 [==============================] - 8s 396ms/step - loss: 4.6444e-04 - accuracy: 1.0000 - val_loss: 0.0051 - val_accuracy: 1.0000\n",
      "Epoch 7/100\n",
      "19/19 [==============================] - 8s 414ms/step - loss: 8.5062e-05 - accuracy: 1.0000 - val_loss: 0.0050 - val_accuracy: 1.0000\n",
      "Epoch 8/100\n",
      "19/19 [==============================] - 8s 400ms/step - loss: 4.8637e-05 - accuracy: 1.0000 - val_loss: 0.0034 - val_accuracy: 1.0000\n",
      "Epoch 9/100\n",
      "19/19 [==============================] - 8s 412ms/step - loss: 3.1804e-05 - accuracy: 1.0000 - val_loss: 0.0026 - val_accuracy: 1.0000\n",
      "Epoch 10/100\n",
      "19/19 [==============================] - 8s 401ms/step - loss: 2.8557e-05 - accuracy: 1.0000 - val_loss: 0.0028 - val_accuracy: 1.0000\n",
      "Epoch 11/100\n",
      "19/19 [==============================] - 8s 393ms/step - loss: 6.5237e-06 - accuracy: 1.0000 - val_loss: 8.5762e-04 - val_accuracy: 1.0000\n",
      "Epoch 12/100\n",
      "19/19 [==============================] - 8s 415ms/step - loss: 9.3975e-07 - accuracy: 1.0000 - val_loss: 3.3517e-04 - val_accuracy: 1.0000\n",
      "Epoch 13/100\n",
      "19/19 [==============================] - 8s 392ms/step - loss: 2.1626e-07 - accuracy: 1.0000 - val_loss: 2.2059e-04 - val_accuracy: 1.0000\n",
      "Epoch 14/100\n",
      "19/19 [==============================] - 8s 395ms/step - loss: 5.6837e-07 - accuracy: 1.0000 - val_loss: 2.8430e-04 - val_accuracy: 1.0000\n",
      "Epoch 15/100\n",
      "19/19 [==============================] - 8s 406ms/step - loss: 5.8590e-07 - accuracy: 1.0000 - val_loss: 3.1481e-04 - val_accuracy: 1.0000\n",
      "Epoch 16/100\n",
      "19/19 [==============================] - 8s 428ms/step - loss: 3.6706e-07 - accuracy: 1.0000 - val_loss: 6.0900e-04 - val_accuracy: 1.0000\n",
      "Epoch 17/100\n",
      "19/19 [==============================] - 8s 398ms/step - loss: 1.8050e-07 - accuracy: 1.0000 - val_loss: 1.7084e-04 - val_accuracy: 1.0000\n",
      "Epoch 18/100\n",
      "19/19 [==============================] - 8s 398ms/step - loss: 1.4037e-07 - accuracy: 1.0000 - val_loss: 1.2832e-04 - val_accuracy: 1.0000\n",
      "Epoch 19/100\n",
      "19/19 [==============================] - 8s 396ms/step - loss: 4.9670e-08 - accuracy: 1.0000 - val_loss: 1.0647e-04 - val_accuracy: 1.0000\n",
      "Epoch 20/100\n",
      "19/19 [==============================] - 8s 398ms/step - loss: 4.4317e-07 - accuracy: 1.0000 - val_loss: 1.3002e-04 - val_accuracy: 1.0000\n",
      "Epoch 21/100\n",
      "19/19 [==============================] - 8s 396ms/step - loss: 3.1073e-07 - accuracy: 1.0000 - val_loss: 8.2096e-04 - val_accuracy: 1.0000\n",
      "Epoch 22/100\n",
      "19/19 [==============================] - 8s 404ms/step - loss: 9.3082e-08 - accuracy: 1.0000 - val_loss: 1.5111e-04 - val_accuracy: 1.0000\n",
      "Epoch 23/100\n",
      "19/19 [==============================] - 8s 440ms/step - loss: 8.0663e-08 - accuracy: 1.0000 - val_loss: 9.6120e-05 - val_accuracy: 1.0000\n",
      "Epoch 24/100\n",
      "19/19 [==============================] - 8s 402ms/step - loss: 1.3637e-06 - accuracy: 1.0000 - val_loss: 0.0080 - val_accuracy: 1.0000\n",
      "Epoch 25/100\n",
      "19/19 [==============================] - 8s 406ms/step - loss: 1.8882e-06 - accuracy: 1.0000 - val_loss: 5.0821e-05 - val_accuracy: 1.0000\n",
      "Epoch 26/100\n",
      "19/19 [==============================] - 8s 396ms/step - loss: 6.4465e-07 - accuracy: 1.0000 - val_loss: 6.2568e-05 - val_accuracy: 1.0000\n",
      "Epoch 27/100\n",
      "19/19 [==============================] - 8s 403ms/step - loss: 2.1884e-07 - accuracy: 1.0000 - val_loss: 8.3179e-05 - val_accuracy: 1.0000\n",
      "Epoch 28/100\n",
      "19/19 [==============================] - 8s 397ms/step - loss: 3.8779e-07 - accuracy: 1.0000 - val_loss: 1.0047e-04 - val_accuracy: 1.0000\n",
      "Epoch 29/100\n",
      "19/19 [==============================] - 8s 400ms/step - loss: 9.6162e-08 - accuracy: 1.0000 - val_loss: 1.0409e-04 - val_accuracy: 1.0000\n",
      "Epoch 30/100\n",
      "19/19 [==============================] - 8s 416ms/step - loss: 9.1059e-07 - accuracy: 1.0000 - val_loss: 3.6413e-04 - val_accuracy: 1.0000\n",
      "Epoch 31/100\n",
      "19/19 [==============================] - 8s 395ms/step - loss: 2.1487e-07 - accuracy: 1.0000 - val_loss: 8.2910e-04 - val_accuracy: 1.0000\n",
      "Epoch 32/100\n",
      "19/19 [==============================] - 8s 393ms/step - loss: 2.7020e-07 - accuracy: 1.0000 - val_loss: 6.3166e-04 - val_accuracy: 1.0000\n",
      "Epoch 33/100\n",
      "19/19 [==============================] - 8s 400ms/step - loss: 1.5656e-07 - accuracy: 1.0000 - val_loss: 4.3990e-04 - val_accuracy: 1.0000\n",
      "Epoch 34/100\n",
      "19/19 [==============================] - 8s 401ms/step - loss: 8.9704e-08 - accuracy: 1.0000 - val_loss: 3.2681e-04 - val_accuracy: 1.0000\n",
      "Epoch 35/100\n",
      "19/19 [==============================] - 8s 406ms/step - loss: 5.5233e-08 - accuracy: 1.0000 - val_loss: 2.5803e-04 - val_accuracy: 1.0000\n",
      "Epoch 36/100\n",
      "19/19 [==============================] - 8s 397ms/step - loss: 3.0772e-07 - accuracy: 1.0000 - val_loss: 7.3176e-04 - val_accuracy: 1.0000\n",
      "Epoch 37/100\n",
      "19/19 [==============================] - 8s 403ms/step - loss: 1.7672e-07 - accuracy: 1.0000 - val_loss: 6.5024e-04 - val_accuracy: 1.0000\n",
      "Epoch 38/100\n",
      "19/19 [==============================] - 8s 400ms/step - loss: 6.5366e-08 - accuracy: 1.0000 - val_loss: 3.9383e-04 - val_accuracy: 1.0000\n",
      "Epoch 39/100\n",
      "19/19 [==============================] - 8s 392ms/step - loss: 5.6922e-08 - accuracy: 1.0000 - val_loss: 3.2828e-04 - val_accuracy: 1.0000\n",
      "Epoch 40/100\n",
      "19/19 [==============================] - 8s 414ms/step - loss: 7.4107e-08 - accuracy: 1.0000 - val_loss: 2.8664e-04 - val_accuracy: 1.0000\n",
      "Epoch 41/100\n",
      "19/19 [==============================] - 8s 395ms/step - loss: 1.4602e-07 - accuracy: 1.0000 - val_loss: 3.7928e-04 - val_accuracy: 1.0000\n",
      "Epoch 42/100\n",
      "19/19 [==============================] - 8s 403ms/step - loss: 5.7816e-08 - accuracy: 1.0000 - val_loss: 4.5221e-04 - val_accuracy: 1.0000\n",
      "Epoch 43/100\n",
      "19/19 [==============================] - 8s 403ms/step - loss: 2.9306e-08 - accuracy: 1.0000 - val_loss: 3.9152e-04 - val_accuracy: 1.0000\n",
      "Epoch 44/100\n",
      "19/19 [==============================] - 8s 402ms/step - loss: 5.2750e-08 - accuracy: 1.0000 - val_loss: 3.3180e-04 - val_accuracy: 1.0000\n",
      "Epoch 45/100\n",
      "19/19 [==============================] - 8s 394ms/step - loss: 3.2186e-08 - accuracy: 1.0000 - val_loss: 2.8846e-04 - val_accuracy: 1.0000\n",
      "Epoch 46/100\n",
      "19/19 [==============================] - 8s 437ms/step - loss: 2.9703e-08 - accuracy: 1.0000 - val_loss: 2.3798e-04 - val_accuracy: 1.0000\n",
      "Epoch 47/100\n",
      "19/19 [==============================] - 8s 417ms/step - loss: 3.6855e-08 - accuracy: 1.0000 - val_loss: 2.1159e-04 - val_accuracy: 1.0000\n",
      "Epoch 48/100\n",
      "19/19 [==============================] - 8s 413ms/step - loss: 1.1702e-07 - accuracy: 1.0000 - val_loss: 2.0455e-04 - val_accuracy: 1.0000\n",
      "Epoch 49/100\n",
      "19/19 [==============================] - 8s 394ms/step - loss: 3.7551e-08 - accuracy: 1.0000 - val_loss: 3.7873e-04 - val_accuracy: 1.0000\n",
      "Epoch 50/100\n",
      "19/19 [==============================] - 8s 413ms/step - loss: 4.9968e-08 - accuracy: 1.0000 - val_loss: 3.0441e-04 - val_accuracy: 1.0000\n",
      "Epoch 51/100\n",
      "19/19 [==============================] - 8s 396ms/step - loss: 2.9902e-08 - accuracy: 1.0000 - val_loss: 2.6613e-04 - val_accuracy: 1.0000\n",
      "Epoch 52/100\n",
      "19/19 [==============================] - 8s 419ms/step - loss: 3.6259e-08 - accuracy: 1.0000 - val_loss: 2.2516e-04 - val_accuracy: 1.0000\n",
      "Epoch 53/100\n",
      "19/19 [==============================] - 8s 397ms/step - loss: 1.9272e-08 - accuracy: 1.0000 - val_loss: 1.9925e-04 - val_accuracy: 1.0000\n",
      "Epoch 54/100\n",
      "19/19 [==============================] - 8s 418ms/step - loss: 1.7583e-08 - accuracy: 1.0000 - val_loss: 1.8042e-04 - val_accuracy: 1.0000\n",
      "Epoch 55/100\n",
      "19/19 [==============================] - 8s 420ms/step - loss: 1.7981e-08 - accuracy: 1.0000 - val_loss: 1.5898e-04 - val_accuracy: 1.0000\n",
      "Epoch 56/100\n",
      "19/19 [==============================] - 8s 436ms/step - loss: 1.4007e-08 - accuracy: 1.0000 - val_loss: 1.4987e-04 - val_accuracy: 1.0000\n",
      "Epoch 57/100\n",
      "19/19 [==============================] - 8s 407ms/step - loss: 3.9339e-08 - accuracy: 1.0000 - val_loss: 1.4649e-04 - val_accuracy: 1.0000\n",
      "Epoch 58/100\n",
      "19/19 [==============================] - 8s 393ms/step - loss: 2.4438e-08 - accuracy: 1.0000 - val_loss: 1.4257e-04 - val_accuracy: 1.0000\n",
      "Epoch 59/100\n",
      "19/19 [==============================] - 8s 398ms/step - loss: 4.1326e-08 - accuracy: 1.0000 - val_loss: 1.6181e-04 - val_accuracy: 1.0000\n",
      "Epoch 60/100\n",
      "19/19 [==============================] - 8s 406ms/step - loss: 1.8775e-08 - accuracy: 1.0000 - val_loss: 1.6332e-04 - val_accuracy: 1.0000\n",
      "Epoch 61/100\n",
      "19/19 [==============================] - 8s 404ms/step - loss: 2.2948e-08 - accuracy: 1.0000 - val_loss: 1.4704e-04 - val_accuracy: 1.0000\n",
      "Epoch 62/100\n",
      "19/19 [==============================] - 8s 419ms/step - loss: 7.2617e-08 - accuracy: 1.0000 - val_loss: 2.2287e-04 - val_accuracy: 1.0000\n",
      "Epoch 63/100\n",
      "19/19 [==============================] - 8s 405ms/step - loss: 1.4106e-08 - accuracy: 1.0000 - val_loss: 2.4667e-04 - val_accuracy: 1.0000\n",
      "Epoch 64/100\n",
      "19/19 [==============================] - 8s 397ms/step - loss: 2.1259e-08 - accuracy: 1.0000 - val_loss: 2.2451e-04 - val_accuracy: 1.0000\n",
      "Epoch 65/100\n",
      "19/19 [==============================] - 8s 393ms/step - loss: 1.5795e-08 - accuracy: 1.0000 - val_loss: 2.0025e-04 - val_accuracy: 1.0000\n",
      "Epoch 66/100\n",
      "19/19 [==============================] - 8s 405ms/step - loss: 1.5696e-08 - accuracy: 1.0000 - val_loss: 1.6714e-04 - val_accuracy: 1.0000\n",
      "Epoch 67/100\n",
      "19/19 [==============================] - 8s 400ms/step - loss: 1.2418e-08 - accuracy: 1.0000 - val_loss: 1.5022e-04 - val_accuracy: 1.0000\n",
      "Epoch 68/100\n",
      "19/19 [==============================] - 8s 414ms/step - loss: 7.1226e-08 - accuracy: 1.0000 - val_loss: 2.8655e-04 - val_accuracy: 1.0000\n",
      "Epoch 69/100\n",
      "19/19 [==============================] - 8s 399ms/step - loss: 2.6127e-08 - accuracy: 1.0000 - val_loss: 2.6310e-04 - val_accuracy: 1.0000\n",
      "Epoch 70/100\n",
      "19/19 [==============================] - 8s 410ms/step - loss: 8.0466e-09 - accuracy: 1.0000 - val_loss: 2.2601e-04 - val_accuracy: 1.0000\n",
      "Epoch 71/100\n",
      "19/19 [==============================] - 8s 397ms/step - loss: 9.4374e-09 - accuracy: 1.0000 - val_loss: 2.0750e-04 - val_accuracy: 1.0000\n",
      "Epoch 72/100\n",
      "19/19 [==============================] - 8s 401ms/step - loss: 1.3212e-08 - accuracy: 1.0000 - val_loss: 1.8370e-04 - val_accuracy: 1.0000\n",
      "Epoch 73/100\n",
      "19/19 [==============================] - 8s 406ms/step - loss: 8.7420e-09 - accuracy: 1.0000 - val_loss: 1.7025e-04 - val_accuracy: 1.0000\n",
      "Epoch 74/100\n",
      "19/19 [==============================] - 8s 406ms/step - loss: 2.0365e-08 - accuracy: 1.0000 - val_loss: 1.5721e-04 - val_accuracy: 1.0000\n",
      "Epoch 75/100\n",
      "19/19 [==============================] - 8s 419ms/step - loss: 6.6558e-09 - accuracy: 1.0000 - val_loss: 1.4599e-04 - val_accuracy: 1.0000\n",
      "Epoch 76/100\n",
      "19/19 [==============================] - 8s 412ms/step - loss: 2.2054e-08 - accuracy: 1.0000 - val_loss: 1.5744e-04 - val_accuracy: 1.0000\n",
      "Epoch 77/100\n",
      "19/19 [==============================] - 8s 411ms/step - loss: 5.4736e-08 - accuracy: 1.0000 - val_loss: 2.7565e-04 - val_accuracy: 1.0000\n",
      "Epoch 78/100\n",
      "19/19 [==============================] - 8s 410ms/step - loss: 2.1656e-08 - accuracy: 1.0000 - val_loss: 2.6360e-04 - val_accuracy: 1.0000\n",
      "Epoch 79/100\n",
      "19/19 [==============================] - 8s 411ms/step - loss: 1.4504e-08 - accuracy: 1.0000 - val_loss: 2.2977e-04 - val_accuracy: 1.0000\n",
      "Epoch 80/100\n",
      "19/19 [==============================] - 8s 442ms/step - loss: 2.0464e-08 - accuracy: 1.0000 - val_loss: 2.1404e-04 - val_accuracy: 1.0000\n",
      "Epoch 81/100\n",
      "19/19 [==============================] - 8s 403ms/step - loss: 1.7385e-08 - accuracy: 1.0000 - val_loss: 2.0555e-04 - val_accuracy: 1.0000\n",
      "Epoch 82/100\n",
      "19/19 [==============================] - 8s 418ms/step - loss: 7.5497e-08 - accuracy: 1.0000 - val_loss: 5.1703e-04 - val_accuracy: 1.0000\n",
      "Epoch 83/100\n",
      "19/19 [==============================] - 8s 416ms/step - loss: 3.8048e-08 - accuracy: 1.0000 - val_loss: 6.4132e-04 - val_accuracy: 1.0000\n",
      "Epoch 84/100\n",
      "19/19 [==============================] - 8s 399ms/step - loss: 2.0067e-08 - accuracy: 1.0000 - val_loss: 4.4052e-04 - val_accuracy: 1.0000\n",
      "Epoch 85/100\n",
      "19/19 [==============================] - 8s 411ms/step - loss: 3.0100e-08 - accuracy: 1.0000 - val_loss: 3.3744e-04 - val_accuracy: 1.0000\n",
      "Epoch 86/100\n",
      "19/19 [==============================] - 8s 399ms/step - loss: 1.0232e-08 - accuracy: 1.0000 - val_loss: 2.6226e-04 - val_accuracy: 1.0000\n",
      "Epoch 87/100\n",
      "19/19 [==============================] - 8s 414ms/step - loss: 1.3709e-08 - accuracy: 1.0000 - val_loss: 2.2491e-04 - val_accuracy: 1.0000\n",
      "Epoch 88/100\n",
      "19/19 [==============================] - 8s 399ms/step - loss: 8.9407e-09 - accuracy: 1.0000 - val_loss: 1.8840e-04 - val_accuracy: 1.0000\n",
      "Epoch 89/100\n",
      "19/19 [==============================] - 8s 416ms/step - loss: 1.2120e-08 - accuracy: 1.0000 - val_loss: 1.6582e-04 - val_accuracy: 1.0000\n",
      "Epoch 90/100\n",
      "19/19 [==============================] - 8s 396ms/step - loss: 2.8411e-08 - accuracy: 1.0000 - val_loss: 2.0788e-04 - val_accuracy: 1.0000\n",
      "Epoch 91/100\n",
      "19/19 [==============================] - 8s 398ms/step - loss: 1.2616e-08 - accuracy: 1.0000 - val_loss: 2.2177e-04 - val_accuracy: 1.0000\n",
      "Epoch 92/100\n",
      "19/19 [==============================] - 8s 437ms/step - loss: 8.3446e-09 - accuracy: 1.0000 - val_loss: 2.2284e-04 - val_accuracy: 1.0000\n",
      "Epoch 93/100\n",
      "19/19 [==============================] - 8s 396ms/step - loss: 1.5597e-08 - accuracy: 1.0000 - val_loss: 1.7755e-04 - val_accuracy: 1.0000\n",
      "Epoch 94/100\n",
      "19/19 [==============================] - 8s 414ms/step - loss: 1.1126e-08 - accuracy: 1.0000 - val_loss: 1.5504e-04 - val_accuracy: 1.0000\n",
      "Epoch 95/100\n",
      "19/19 [==============================] - 8s 403ms/step - loss: 1.0033e-08 - accuracy: 1.0000 - val_loss: 1.5085e-04 - val_accuracy: 1.0000\n",
      "Epoch 96/100\n",
      "19/19 [==============================] - 8s 413ms/step - loss: 6.4572e-09 - accuracy: 1.0000 - val_loss: 1.4484e-04 - val_accuracy: 1.0000\n",
      "Epoch 97/100\n",
      "19/19 [==============================] - 8s 413ms/step - loss: 4.5697e-09 - accuracy: 1.0000 - val_loss: 1.3739e-04 - val_accuracy: 1.0000\n",
      "Epoch 98/100\n",
      "19/19 [==============================] - 8s 404ms/step - loss: 8.5433e-09 - accuracy: 1.0000 - val_loss: 1.3204e-04 - val_accuracy: 1.0000\n",
      "Epoch 99/100\n",
      "19/19 [==============================] - 8s 418ms/step - loss: 1.0828e-08 - accuracy: 1.0000 - val_loss: 1.2904e-04 - val_accuracy: 1.0000\n",
      "Epoch 100/100\n",
      "19/19 [==============================] - 8s 419ms/step - loss: 1.1424e-08 - accuracy: 1.0000 - val_loss: 1.2672e-04 - val_accuracy: 1.0000\n"
     ]
    }
   ],
   "source": [
    "history_model = cnn.fit(x = training_set, validation_data = test_set, epochs = 100)"
   ]
  },
  {
   "cell_type": "code",
   "execution_count": 184,
   "id": "05e34106",
   "metadata": {},
   "outputs": [
    {
     "data": {
      "image/png": "[encoded data removed]",
      "text/plain": [
       "<Figure size 432x288 with 1 Axes>"
      ]
     },
     "metadata": {
      "needs_background": "light"
     },
     "output_type": "display_data"
    },
    {
     "data": {
      "image/png": "[encoded data removed]",
      "text/plain": [
       "<Figure size 432x288 with 1 Axes>"
      ]
     },
     "metadata": {
      "needs_background": "light"
     },
     "output_type": "display_data"
    }
   ],
   "source": [
    "# Accuracy comparison\n",
    "import matplotlib.pyplot as plt\n",
    "\n",
    "plt.plot(history_model.history['accuracy'])\n",
    "plt.plot(history_model.history['val_accuracy'])\n",
    "plt.legend(['accuracy','val_accuracy'])\n",
    "plt.show()\n",
    "\n",
    "\n",
    "# Loss Comparison\n",
    "plt.plot(history_model.history['loss'])\n",
    "plt.plot(history_model.history['val_loss'])\n",
    "plt.legend(['loss','val_loss'])\n",
    "plt.show()"
   ]
  },
  {
   "cell_type": "code",
   "execution_count": 186,
   "id": "8608096d",
   "metadata": {},
   "outputs": [
    {
     "name": "stdout",
     "output_type": "stream",
     "text": [
      "4/4 [==============================] - 1s 112ms/step\n",
      "              precision    recall  f1-score   support\n",
      "\n",
      "           0       0.28      0.28      0.28        80\n",
      "           1       0.38      0.38      0.38        80\n",
      "           2       0.31      0.31      0.31        80\n",
      "\n",
      "    accuracy                           0.32       240\n",
      "   macro avg       0.32      0.32      0.32       240\n",
      "weighted avg       0.32      0.32      0.32       240\n",
      "\n",
      "Total number of test cases 240\n",
      "Number of wrong predictions 163\n"
     ]
    }
   ],
   "source": [
    "from sklearn.metrics import classification_report, confusion_matrix\n",
    "\n",
    "test_data_size = 40\n",
    "BATCH_SIZE = 16\n",
    "y_test = test_set.classes\n",
    "\n",
    "pred = cnn.predict(test_set,test_data_size//BATCH_SIZE + 1, verbose = 1,).argmax(axis=1)\n",
    "\n",
    "print(classification_report(y_test,pred))\n",
    "\n",
    "total_count = 0\n",
    "for i in range(len(y_test)):\n",
    "    if y_test[i] != pred[i]:\n",
    "        total_count += 1\n",
    "print(\"Total number of test cases\", ((len(y_test))))\n",
    "print(\"Number of wrong predictions\", total_count)"
   ]
  },
  {
   "cell_type": "code",
   "execution_count": null,
   "id": "8f8489fc",
   "metadata": {},
   "outputs": [],
   "source": []
  }
 ],
 "metadata": {
  "kernelspec": {
   "display_name": "Python 3 (ipykernel)",
   "language": "python",
   "name": "python3"
  },
  "language_info": {
   "codemirror_mode": {
    "name": "ipython",
    "version": 3
   },
   "file_extension": ".py",
   "mimetype": "text/x-python",
   "name": "python",
   "nbconvert_exporter": "python",
   "pygments_lexer": "ipython3",
   "version": "3.9.7"
  }
 },
 "nbformat": 4,
 "nbformat_minor": 5
}
